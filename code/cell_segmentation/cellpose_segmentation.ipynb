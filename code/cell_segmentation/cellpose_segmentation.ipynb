{
 "cells": [
  {
   "cell_type": "code",
   "execution_count": 102,
   "metadata": {},
   "outputs": [],
   "source": [
    "import numpy as np\n",
    "import matplotlib.pyplot as plt\n",
    "import torch\n",
    "import xarray\n",
    "import tifffile\n",
    "from cellpose import models, io\n",
    "from skimage import segmentation\n",
    "import os"
   ]
  },
  {
   "cell_type": "code",
   "execution_count": 103,
   "metadata": {},
   "outputs": [],
   "source": [
    "path = '/media/gambino/students_workdir/ilias/data/images/tile40/'\n",
    "cellbound_selection = (1,2,3)\n",
    "\n",
    "cellbounds = {f'mosaic_Cellbound{cellbound_selection}_z{z_stack}_tile40.tif': np.array([io.imread(path+f'mosaic_Cellbound{i}_z{z_stack}_tile40.tif') for i in cellbound_selection]) for z_stack in range(7)}\n",
    "dapi = {f'mosaic_DAPI_z{z_stack}_tile40.tif': io.imread(path+f'mosaic_DAPI_z{z_stack}_tile40.tif') for z_stack in range(7)}\n",
    "avg_intens_cellbounds = {}\n",
    "for key in cellbounds.keys():\n",
    "    avg_intens_cellbounds[key] = np.round(np.average(cellbounds[key], axis=0)).astype(np.uint16)\n",
    "\n",
    "imgs = [np.dstack((dapi[dapi_key], avg_intens_cellbounds[cellbound_key])) for dapi_key, cellbound_key in zip(dapi.keys(), avg_intens_cellbounds.keys())]"
   ]
  },
  {
   "attachments": {},
   "cell_type": "markdown",
   "metadata": {},
   "source": [
    "Cellpose\n",
    "\n",
    "<sub>\n",
    "\n",
    "* channels: \n",
    "    * [cytoplasm, nucleus]\n",
    "\n",
    "    * grayscale = [0,0]\n",
    "\n",
    "* model_type:\n",
    "    * 'cyto'\n",
    "    * 'nuclei'\n",
    "    * 'cyto2'"
   ]
  },
  {
   "cell_type": "code",
   "execution_count": 125,
   "metadata": {},
   "outputs": [
    {
     "name": "stdout",
     "output_type": "stream",
     "text": [
      "Using cuda\n"
     ]
    }
   ],
   "source": [
    "#channels\n",
    "channels = [2,1]\n",
    "\n",
    "#model eval\n",
    "model = models.Cellpose(model_type='cyto2', device=torch.device('cuda' if torch.cuda.is_available() else 'cpu'))\n",
    "print(f'Using {model.device}')\n",
    "\n",
    "with torch.no_grad():\n",
    "    masks, _ , _, diams = model.eval(imgs, batch_size=16, channel_axis=-1, channels=channels, diameter=None)\n",
    "    torch.cuda.empty_cache()"
   ]
  },
  {
   "cell_type": "code",
   "execution_count": 142,
   "metadata": {},
   "outputs": [],
   "source": [
    "# save results\n",
    "dataset = xarray.Dataset(data_vars = dict(images = (['z','row','col','channels'],imgs),\n",
    "                                        masks = (['z','row','col'], masks_exp)),\n",
    "                         attrs = dict(dir_path = path, files=[f'({dapi_key},{cellbound_key})' for dapi_key, cellbound_key in zip(dapi.keys(), avg_intens_cellbounds.keys())],\n",
    "                                       channels = channels, diams=diams))"
   ]
  },
  {
   "cell_type": "code",
   "execution_count": null,
   "metadata": {},
   "outputs": [],
   "source": [
    "out_file=path+'segs/cellpose/mosaic_Cellbound(1,2,3)_DAPI.nc'\n",
    "\n",
    "dataset.to_netcdf(out_file, engine='netcdf4')"
   ]
  }
 ],
 "metadata": {
  "kernelspec": {
   "display_name": "imaging",
   "language": "python",
   "name": "python3"
  },
  "language_info": {
   "codemirror_mode": {
    "name": "ipython",
    "version": 3
   },
   "file_extension": ".py",
   "mimetype": "text/x-python",
   "name": "python",
   "nbconvert_exporter": "python",
   "pygments_lexer": "ipython3",
   "version": "3.10.9"
  },
  "orig_nbformat": 4,
  "vscode": {
   "interpreter": {
    "hash": "3a383f01a021cfa6e2e7bb752ec2498760eef25452d13a0bb73e20523fbf7842"
   }
  }
 },
 "nbformat": 4,
 "nbformat_minor": 2
}
