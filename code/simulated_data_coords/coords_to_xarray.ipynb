{
 "cells": [
  {
   "cell_type": "code",
   "execution_count": 1,
   "metadata": {},
   "outputs": [],
   "source": [
    "import xarray\n",
    "import math\n",
    "import numpy as np\n",
    "from data_to_xarray import coords_to_xarray"
   ]
  },
  {
   "cell_type": "code",
   "execution_count": null,
   "metadata": {},
   "outputs": [],
   "source": [
    "coords_to_xarray('gene_coords', 'gene_expression_coords_dataset.nc',masked=False, pad_mode='repeat',\n",
    "                           num_points=200, normalize=False)"
   ]
  },
  {
   "attachments": {},
   "cell_type": "markdown",
   "metadata": {},
   "source": [
    "Select only specific patterns"
   ]
  },
  {
   "cell_type": "code",
   "execution_count": 2,
   "metadata": {},
   "outputs": [],
   "source": [
    "dataset = xarray.load_dataset('/media/gambino/students_workdir/ilias/all_simulated_data/gene_expression_coords_masked_dataset.nc')"
   ]
  },
  {
   "attachments": {},
   "cell_type": "markdown",
   "metadata": {},
   "source": [
    "Rotation"
   ]
  },
  {
   "cell_type": "code",
   "execution_count": 10,
   "metadata": {},
   "outputs": [],
   "source": [
    "rot_augmented_dataset = dataset.copy()\n",
    "\n",
    "for i in range(3):\n",
    "    angle=math.radians(np.random.randint(0,180))\n",
    "    x = dataset.trans_coords[:,:2].values\n",
    "    centroids = np.expand_dims(x.sum(2)/len(dataset.spots), axis=2)\n",
    "\n",
    "    dataset_copy = dataset.copy()\n",
    "    dataset_copy.trans_coords[:,:2].values = np.stack((centroids[:,0] + math.cos(angle) * (x[:,0] - centroids[:,0]) - math.sin(angle) * (x[:,1] - centroids[:,1]),\n",
    "                centroids[:,1] + math.sin(angle) * (x[:,0] - centroids[:,0]) + math.cos(angle) * (x[:,1] - centroids[:,1])),axis=1)\n",
    "    rot_augmented_dataset = xarray.concat((rot_augmented_dataset, dataset_copy), dim='index')\n",
    "\n",
    "# rot_augmented_dataset.to_netcdf('gene_expression_coords_masked_rotated_dataset.nc',engine='netcdf4')"
   ]
  },
  {
   "attachments": {},
   "cell_type": "markdown",
   "metadata": {},
   "source": [
    "Selected patterns"
   ]
  },
  {
   "cell_type": "code",
   "execution_count": 11,
   "metadata": {},
   "outputs": [],
   "source": [
    "selected_patterns = ['cell_edge', 'foci', 'extranuclear', 'intranuclear', 'pericellular', 'perinuclear', 'random', 'protrusion']\n",
    "dataset = dataset.isel(index = dataset['pattern'].isin(selected_patterns))\n",
    "# dataset.to_netcdf('gene_expression_coords_masked_reduced_dataset.nc',engine='netcdf4')"
   ]
  },
  {
   "cell_type": "markdown",
   "metadata": {},
   "source": [
    "Exclude cell identities"
   ]
  },
  {
   "cell_type": "code",
   "execution_count": 14,
   "metadata": {},
   "outputs": [],
   "source": [
    "cell_ids = [metadata.split('_')[4] if metadata.split('_')[1]=='edge' else metadata.split('_')[3] for metadata in dataset.metadata.to_dataframe().iloc[:,0]]\n",
    "indices_to_include = [i for i, cellid in enumerate(cell_ids) if cellid in ['icell' + str(i) for i in range(250)]]\n",
    "exclude_cellids_dataset = dataset.isel(dict(index=indices_to_include))\n",
    "# exclude_cellids_dataset.to_netcdf('gene_expression_coords_masked_cellids-excluded_dataset.nc',engine='netcdf4')"
   ]
  }
 ],
 "metadata": {
  "kernelspec": {
   "display_name": "imaging",
   "language": "python",
   "name": "python3"
  },
  "language_info": {
   "codemirror_mode": {
    "name": "ipython",
    "version": 3
   },
   "file_extension": ".py",
   "mimetype": "text/x-python",
   "name": "python",
   "nbconvert_exporter": "python",
   "pygments_lexer": "ipython3",
   "version": "3.10.10"
  },
  "orig_nbformat": 4
 },
 "nbformat": 4,
 "nbformat_minor": 2
}
